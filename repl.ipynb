{
 "cells": [
  {
   "cell_type": "code",
   "execution_count": 1,
   "id": "4c5beb78",
   "metadata": {
    "ExecuteTime": {
     "end_time": "2023-02-17T16:22:48.562739Z",
     "start_time": "2023-02-17T16:22:48.536473Z"
    }
   },
   "outputs": [
    {
     "data": {
      "text/plain": [
       "<typeguard.importhook.ImportHookManager at 0x7fac9c66d450>"
      ]
     },
     "execution_count": 1,
     "metadata": {},
     "output_type": "execute_result"
    }
   ],
   "source": [
    "from typeguard.importhook import install_import_hook\n",
    "install_import_hook('repl')"
   ]
  },
  {
   "cell_type": "code",
   "execution_count": 4,
   "id": "20b66e19",
   "metadata": {
    "ExecuteTime": {
     "end_time": "2023-02-17T16:31:25.620908Z",
     "start_time": "2023-02-17T16:31:25.606399Z"
    }
   },
   "outputs": [],
   "source": [
    "%autoreload 2"
   ]
  },
  {
   "cell_type": "code",
   "execution_count": 5,
   "id": "12d44f22",
   "metadata": {
    "ExecuteTime": {
     "end_time": "2023-02-17T16:31:25.633747Z",
     "start_time": "2023-02-17T16:31:25.623988Z"
    }
   },
   "outputs": [],
   "source": [
    "from pmextract import extract # ask Sam for this tool\n",
    "import pdb"
   ]
  },
  {
   "cell_type": "code",
   "execution_count": 6,
   "id": "54a9cc16",
   "metadata": {
    "ExecuteTime": {
     "end_time": "2023-02-17T16:31:25.993951Z",
     "start_time": "2023-02-17T16:31:25.636652Z"
    }
   },
   "outputs": [],
   "source": [
    "from policies import MinimaxPolicy, RandPolicy\n",
    "import game\n",
    "import numpy as np\n",
    "import matplotlib.pyplot as plt"
   ]
  },
  {
   "cell_type": "code",
   "execution_count": 16,
   "id": "3f44b56f",
   "metadata": {
    "ExecuteTime": {
     "end_time": "2023-02-17T16:33:11.043996Z",
     "start_time": "2023-02-17T16:33:11.028392Z"
    }
   },
   "outputs": [],
   "source": [
    "def rand_game():\n",
    "    players = [RandPolicy(0), RandPolicy(1)]\n",
    "    sim = game.GameSimulator(players, n_steps=800)\n",
    "    sim.run()\n",
    "    return sim"
   ]
  },
  {
   "cell_type": "code",
   "execution_count": 17,
   "id": "4709765c",
   "metadata": {
    "ExecuteTime": {
     "end_time": "2023-02-17T16:33:21.941384Z",
     "start_time": "2023-02-17T16:33:17.479506Z"
    }
   },
   "outputs": [],
   "source": [
    "rand_games = [rand_game() for _ in range(50)]"
   ]
  },
  {
   "cell_type": "code",
   "execution_count": 22,
   "id": "2a710938",
   "metadata": {
    "ExecuteTime": {
     "end_time": "2023-02-17T16:35:36.963278Z",
     "start_time": "2023-02-17T16:35:36.796116Z"
    }
   },
   "outputs": [
    {
     "data": {
      "image/png": "[encoded data removed]",
      "text/plain": [
       "<Figure size 640x480 with 1 Axes>"
      ]
     },
     "metadata": {},
     "output_type": "display_data"
    }
   ],
   "source": [
    "plt.hist([g.current_round for g in rand_games]);"
   ]
  },
  {
   "cell_type": "code",
   "execution_count": 27,
   "id": "1f9fbe51",
   "metadata": {
    "ExecuteTime": {
     "end_time": "2023-02-17T16:37:11.306085Z",
     "start_time": "2023-02-17T16:37:11.292950Z"
    }
   },
   "outputs": [
    {
     "data": {
      "text/plain": [
       "0.62"
      ]
     },
     "execution_count": 27,
     "metadata": {},
     "output_type": "execute_result"
    }
   ],
   "source": [
    "np.mean([g.current_round % 2 for g in rand_games])"
   ]
  },
  {
   "cell_type": "code",
   "execution_count": 30,
   "id": "f840b548",
   "metadata": {
    "ExecuteTime": {
     "end_time": "2023-02-17T16:37:55.694211Z",
     "start_time": "2023-02-17T16:37:55.682722Z"
    }
   },
   "outputs": [],
   "source": [
    "def minimax_rand():\n",
    "    players = [MinimaxPolicy(0), RandPolicy(1)]\n",
    "    sim = game.GameSimulator(players, n_steps=700)\n",
    "    sim.run()\n",
    "    return sim"
   ]
  },
  {
   "cell_type": "code",
   "execution_count": 31,
   "id": "57dcd231",
   "metadata": {
    "ExecuteTime": {
     "end_time": "2023-02-17T16:38:22.867440Z",
     "start_time": "2023-02-17T16:37:56.565090Z"
    }
   },
   "outputs": [],
   "source": [
    "mm_games = [minimax_rand() for _ in range(20)]"
   ]
  },
  {
   "cell_type": "code",
   "execution_count": 32,
   "id": "35209ec8",
   "metadata": {
    "ExecuteTime": {
     "end_time": "2023-02-17T16:38:59.000956Z",
     "start_time": "2023-02-17T16:38:58.986736Z"
    }
   },
   "outputs": [
    {
     "data": {
      "text/plain": [
       "0.1"
      ]
     },
     "execution_count": 32,
     "metadata": {},
     "output_type": "execute_result"
    }
   ],
   "source": [
    "np.mean([g.winner() for g in mm_games])"
   ]
  },
  {
   "cell_type": "markdown",
   "id": "37dd7df8",
   "metadata": {},
   "source": [
    "So Minimax, even with depth 3 and no hueristic, is already way better than random!"
   ]
  },
  {
   "cell_type": "code",
   "execution_count": 24,
   "id": "795e6cb1",
   "metadata": {
    "ExecuteTime": {
     "end_time": "2023-02-17T04:33:02.003479Z",
     "start_time": "2023-02-17T04:33:01.542741Z"
    }
   },
   "outputs": [],
   "source": [
    "def minimax_game():\n",
    "    players = [MinimaxPolicy(0), MinimaxPolicy(1)]\n",
    "    sim = game.GameSimulator(players, n_steps=1000)\n",
    "    sim.run()"
   ]
  }
 ],
 "metadata": {
  "@webio": {
   "lastCommId": null,
   "lastKernelId": null
  },
  "kernelspec": {
   "display_name": "Python 3 (ipykernel)",
   "language": "python",
   "name": "python3"
  },
  "language_info": {
   "codemirror_mode": {
    "name": "ipython",
    "version": 3
   },
   "file_extension": ".py",
   "mimetype": "text/x-python",
   "name": "python",
   "nbconvert_exporter": "python",
   "pygments_lexer": "ipython3",
   "version": "3.10.9"
  }
 },
 "nbformat": 4,
 "nbformat_minor": 5
}
