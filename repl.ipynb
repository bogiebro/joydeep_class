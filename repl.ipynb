{
 "cells": [
  {
   "cell_type": "code",
   "execution_count": 1,
   "id": "4c5beb78",
   "metadata": {
    "ExecuteTime": {
     "end_time": "2023-02-17T16:54:14.689181Z",
     "start_time": "2023-02-17T16:54:14.665775Z"
    }
   },
   "outputs": [
    {
     "data": {
      "text/plain": [
       "<typeguard.importhook.ImportHookManager at 0x7f718c4c5450>"
      ]
     },
     "execution_count": 1,
     "metadata": {},
     "output_type": "execute_result"
    }
   ],
   "source": [
    "from typeguard.importhook import install_import_hook\n",
    "install_import_hook('repl')"
   ]
  },
  {
   "cell_type": "code",
   "execution_count": 1,
   "id": "20b66e19",
   "metadata": {
    "ExecuteTime": {
     "end_time": "2023-02-17T16:56:31.137417Z",
     "start_time": "2023-02-17T16:56:31.126381Z"
    }
   },
   "outputs": [],
   "source": [
    "%autoreload 2"
   ]
  },
  {
   "cell_type": "code",
   "execution_count": 2,
   "id": "54a9cc16",
   "metadata": {
    "ExecuteTime": {
     "end_time": "2023-02-17T16:56:31.581012Z",
     "start_time": "2023-02-17T16:56:31.140983Z"
    }
   },
   "outputs": [],
   "source": [
    "from policies import MinimaxPolicy, RandPolicy, AlphaBeta\n",
    "import game\n",
    "import numpy as np\n",
    "import matplotlib.pyplot as plt\n",
    "import pdb"
   ]
  },
  {
   "cell_type": "code",
   "execution_count": 16,
   "id": "3f44b56f",
   "metadata": {
    "ExecuteTime": {
     "end_time": "2023-02-17T16:33:11.043996Z",
     "start_time": "2023-02-17T16:33:11.028392Z"
    }
   },
   "outputs": [],
   "source": [
    "def rand_game():\n",
    "    players = [RandPolicy(0), RandPolicy(1)]\n",
    "    sim = game.GameSimulator(players, n_steps=800)\n",
    "    sim.run()\n",
    "    return sim"
   ]
  },
  {
   "cell_type": "code",
   "execution_count": 17,
   "id": "4709765c",
   "metadata": {
    "ExecuteTime": {
     "end_time": "2023-02-17T16:33:21.941384Z",
     "start_time": "2023-02-17T16:33:17.479506Z"
    }
   },
   "outputs": [],
   "source": [
    "rand_games = [rand_game() for _ in range(50)]"
   ]
  },
  {
   "cell_type": "code",
   "execution_count": 22,
   "id": "2a710938",
   "metadata": {
    "ExecuteTime": {
     "end_time": "2023-02-17T16:35:36.963278Z",
     "start_time": "2023-02-17T16:35:36.796116Z"
    }
   },
   "outputs": [
    {
     "data": {
      "image/png": "[encoded data removed]",
      "text/plain": [
       "<Figure size 640x480 with 1 Axes>"
      ]
     },
     "metadata": {},
     "output_type": "display_data"
    }
   ],
   "source": [
    "plt.hist([g.current_round for g in rand_games]);"
   ]
  },
  {
   "cell_type": "code",
   "execution_count": 27,
   "id": "d797f196",
   "metadata": {
    "ExecuteTime": {
     "end_time": "2023-02-17T16:37:11.306085Z",
     "start_time": "2023-02-17T16:37:11.292950Z"
    }
   },
   "outputs": [
    {
     "data": {
      "text/plain": [
       "0.62"
      ]
     },
     "execution_count": 27,
     "metadata": {},
     "output_type": "execute_result"
    }
   ],
   "source": [
    "np.mean([g.winner() for g in rand_games])"
   ]
  },
  {
   "cell_type": "code",
   "execution_count": 30,
   "id": "4487b777",
   "metadata": {
    "ExecuteTime": {
     "end_time": "2023-02-17T16:37:55.694211Z",
     "start_time": "2023-02-17T16:37:55.682722Z"
    }
   },
   "outputs": [],
   "source": [
    "def minimax_rand():\n",
    "    players = [MinimaxPolicy(0), RandPolicy(1)]\n",
    "    sim = game.GameSimulator(players, n_steps=700)\n",
    "    sim.run()\n",
    "    return sim"
   ]
  },
  {
   "cell_type": "code",
   "execution_count": 31,
   "id": "565040ee",
   "metadata": {
    "ExecuteTime": {
     "end_time": "2023-02-17T16:38:22.867440Z",
     "start_time": "2023-02-17T16:37:56.565090Z"
    }
   },
   "outputs": [],
   "source": [
    "mm_games = [minimax_rand() for _ in range(20)]"
   ]
  },
  {
   "cell_type": "code",
   "execution_count": 32,
   "id": "25d2ff34",
   "metadata": {
    "ExecuteTime": {
     "end_time": "2023-02-17T16:38:59.000956Z",
     "start_time": "2023-02-17T16:38:58.986736Z"
    }
   },
   "outputs": [
    {
     "data": {
      "text/plain": [
       "0.1"
      ]
     },
     "execution_count": 32,
     "metadata": {},
     "output_type": "execute_result"
    }
   ],
   "source": [
    "np.mean([g.winner() for g in mm_games])"
   ]
  },
  {
   "cell_type": "markdown",
   "id": "1c1e859f",
   "metadata": {},
   "source": [
    "So Minimax, even with depth 3 and no hueristic, is already way better than random!"
   ]
  },
  {
   "cell_type": "code",
   "execution_count": 33,
   "id": "853a1016",
   "metadata": {
    "ExecuteTime": {
     "end_time": "2023-02-17T16:41:07.202411Z",
     "start_time": "2023-02-17T16:41:07.037722Z"
    }
   },
   "outputs": [
    {
     "data": {
      "image/png": "[encoded data removed]",
      "text/plain": [
       "<Figure size 640x480 with 1 Axes>"
      ]
     },
     "metadata": {},
     "output_type": "display_data"
    }
   ],
   "source": [
    "plt.hist([g.current_round for g in mm_games]);"
   ]
  },
  {
   "cell_type": "markdown",
   "id": "c6bc903b",
   "metadata": {},
   "source": [
    "It seems like the games are ending faster too"
   ]
  },
  {
   "cell_type": "code",
   "execution_count": 3,
   "id": "5f803c4c",
   "metadata": {
    "ExecuteTime": {
     "end_time": "2023-02-17T16:56:35.583890Z",
     "start_time": "2023-02-17T16:56:35.570511Z"
    }
   },
   "outputs": [],
   "source": [
    "def ab_rand():\n",
    "    players = [AlphaBeta(0), RandPolicy(1)]\n",
    "    sim = game.GameSimulator(players, n_steps=700)\n",
    "    sim.run()\n",
    "    return sim"
   ]
  },
  {
   "cell_type": "code",
   "execution_count": 4,
   "id": "af91f1ae",
   "metadata": {
    "ExecuteTime": {
     "end_time": "2023-02-17T16:56:54.590119Z",
     "start_time": "2023-02-17T16:56:36.528128Z"
    }
   },
   "outputs": [],
   "source": [
    "ab_games = [ab_rand() for _ in range(20)]"
   ]
  },
  {
   "cell_type": "code",
   "execution_count": 5,
   "id": "6ded3362",
   "metadata": {
    "ExecuteTime": {
     "end_time": "2023-02-17T16:57:07.293010Z",
     "start_time": "2023-02-17T16:57:07.182150Z"
    }
   },
   "outputs": [
    {
     "data": {
      "text/plain": [
       "0.05"
      ]
     },
     "execution_count": 5,
     "metadata": {},
     "output_type": "execute_result"
    }
   ],
   "source": [
    "np.mean([g.winner() for g in ab_games])"
   ]
  },
  {
   "cell_type": "markdown",
   "id": "69a5a712",
   "metadata": {},
   "source": [
    "As expected, we do even better with Alpha Beta pruning."
   ]
  },
  {
   "cell_type": "code",
   "execution_count": 6,
   "id": "49ea4239",
   "metadata": {
    "ExecuteTime": {
     "end_time": "2023-02-17T16:59:09.720912Z",
     "start_time": "2023-02-17T16:59:09.515230Z"
    }
   },
   "outputs": [
    {
     "data": {
      "image/png": "[encoded data removed]",
      "text/plain": [
       "<Figure size 640x480 with 1 Axes>"
      ]
     },
     "metadata": {},
     "output_type": "display_data"
    }
   ],
   "source": [
    "plt.hist([g.current_round for g in ab_games]);"
   ]
  },
  {
   "cell_type": "markdown",
   "id": "1a90ecf6",
   "metadata": {},
   "source": [
    "Hm: but the games are taking longer? Could also be sample quirks. 20 games isn't much of a sample. "
   ]
  },
  {
   "cell_type": "code",
   "execution_count": 24,
   "id": "795e6cb1",
   "metadata": {
    "ExecuteTime": {
     "end_time": "2023-02-17T04:33:02.003479Z",
     "start_time": "2023-02-17T04:33:01.542741Z"
    }
   },
   "outputs": [],
   "source": [
    "def minimax_game():\n",
    "    players = [MinimaxPolicy(0), MinimaxPolicy(1)]\n",
    "    sim = game.GameSimulator(players, n_steps=1000)\n",
    "    sim.run()"
   ]
  }
 ],
 "metadata": {
  "@webio": {
   "lastCommId": null,
   "lastKernelId": null
  },
  "kernelspec": {
   "display_name": "Python 3 (ipykernel)",
   "language": "python",
   "name": "python3"
  },
  "language_info": {
   "codemirror_mode": {
    "name": "ipython",
    "version": 3
   },
   "file_extension": ".py",
   "mimetype": "text/x-python",
   "name": "python",
   "nbconvert_exporter": "python",
   "pygments_lexer": "ipython3",
   "version": "3.10.9"
  }
 },
 "nbformat": 4,
 "nbformat_minor": 5
}
