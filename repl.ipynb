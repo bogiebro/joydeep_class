{
 "cells": [
  {
   "cell_type": "code",
   "execution_count": 1,
   "id": "4c5beb78",
   "metadata": {
    "ExecuteTime": {
     "end_time": "2023-02-19T03:55:08.172336Z",
     "start_time": "2023-02-19T03:55:08.154865Z"
    }
   },
   "outputs": [
    {
     "data": {
      "text/plain": [
       "<typeguard.importhook.ImportHookManager at 0x7f4f983dd390>"
      ]
     },
     "execution_count": 1,
     "metadata": {},
     "output_type": "execute_result"
    }
   ],
   "source": [
    "from typeguard.importhook import install_import_hook\n",
    "install_import_hook('repl')"
   ]
  },
  {
   "cell_type": "code",
   "execution_count": 1,
   "id": "20b66e19",
   "metadata": {
    "ExecuteTime": {
     "end_time": "2023-02-19T05:19:39.885537Z",
     "start_time": "2023-02-19T05:19:39.875649Z"
    }
   },
   "outputs": [],
   "source": [
    "%autoreload 2"
   ]
  },
  {
   "cell_type": "code",
   "execution_count": 2,
   "id": "54a9cc16",
   "metadata": {
    "ExecuteTime": {
     "end_time": "2023-02-19T05:19:40.208062Z",
     "start_time": "2023-02-19T05:19:39.887189Z"
    }
   },
   "outputs": [],
   "source": [
    "from policies import MinimaxPolicy, RandPolicy, AlphaBeta, MCTS\n",
    "import game\n",
    "import numpy as np\n",
    "import matplotlib.pyplot as plt\n",
    "import pdb"
   ]
  },
  {
   "cell_type": "code",
   "execution_count": 5,
   "id": "5e02c16f",
   "metadata": {
    "ExecuteTime": {
     "end_time": "2023-02-19T05:20:32.657816Z",
     "start_time": "2023-02-19T05:20:32.517978Z"
    }
   },
   "outputs": [],
   "source": [
    "def mcts_game():\n",
    "    players = [MCTS(0, limit=350), RandPolicy(1)]\n",
    "    sim = game.GameSimulator(players, n_steps=10, log=True)\n",
    "    sim.go()\n",
    "    return sim"
   ]
  },
  {
   "cell_type": "code",
   "execution_count": 6,
   "id": "1005b8c8",
   "metadata": {
    "ExecuteTime": {
     "end_time": "2023-02-19T05:21:14.255039Z",
     "start_time": "2023-02-19T05:20:34.313386Z"
    }
   },
   "outputs": [
    {
     "ename": "ValueError",
     "evalue": "Two pieces at the same position",
     "output_type": "error",
     "traceback": [
      "\u001b[0;31m---------------------------------------------------------------------------\u001b[0m",
      "\u001b[0;31mValueError\u001b[0m                                Traceback (most recent call last)",
      "Cell \u001b[0;32mIn[6], line 1\u001b[0m\n\u001b[0;32m----> 1\u001b[0m \u001b[43mmcts_game\u001b[49m\u001b[43m(\u001b[49m\u001b[43m)\u001b[49m\n",
      "Cell \u001b[0;32mIn[5], line 4\u001b[0m, in \u001b[0;36mmcts_game\u001b[0;34m()\u001b[0m\n\u001b[1;32m      2\u001b[0m players \u001b[38;5;241m=\u001b[39m [MCTS(\u001b[38;5;241m0\u001b[39m, limit\u001b[38;5;241m=\u001b[39m\u001b[38;5;241m350\u001b[39m), RandPolicy(\u001b[38;5;241m1\u001b[39m)]\n\u001b[1;32m      3\u001b[0m sim \u001b[38;5;241m=\u001b[39m game\u001b[38;5;241m.\u001b[39mGameSimulator(players, n_steps\u001b[38;5;241m=\u001b[39m\u001b[38;5;241m10\u001b[39m, log\u001b[38;5;241m=\u001b[39m\u001b[38;5;28;01mTrue\u001b[39;00m)\n\u001b[0;32m----> 4\u001b[0m \u001b[43msim\u001b[49m\u001b[38;5;241;43m.\u001b[39;49m\u001b[43mgo\u001b[49m\u001b[43m(\u001b[49m\u001b[43m)\u001b[49m\n\u001b[1;32m      5\u001b[0m \u001b[38;5;28;01mreturn\u001b[39;00m sim\n",
      "File \u001b[0;32m~/classes/planning/hw2/game.py:315\u001b[0m, in \u001b[0;36mGameSimulator.go\u001b[0;34m(self)\u001b[0m\n\u001b[1;32m    311\u001b[0m     \u001b[38;5;28;01mreturn\u001b[39;00m \u001b[38;5;28;01mNone\u001b[39;00m\n\u001b[1;32m    313\u001b[0m \u001b[38;5;66;03m## For the player who needs to move, provide them with the current game state\u001b[39;00m\n\u001b[1;32m    314\u001b[0m \u001b[38;5;66;03m## and then ask them to choose an action according to their policy\u001b[39;00m\n\u001b[0;32m--> 315\u001b[0m action, value \u001b[38;5;241m=\u001b[39m \u001b[38;5;28;43mself\u001b[39;49m\u001b[38;5;241;43m.\u001b[39;49m\u001b[43mplayers\u001b[49m\u001b[43m[\u001b[49m\u001b[43mplayer_idx\u001b[49m\u001b[43m]\u001b[49m\u001b[38;5;241;43m.\u001b[39;49m\u001b[43mpolicy\u001b[49m\u001b[43m(\u001b[49m\u001b[43m \u001b[49m\u001b[38;5;28;43mself\u001b[39;49m\u001b[38;5;241;43m.\u001b[39;49m\u001b[43mgame_state\u001b[49m\u001b[43m \u001b[49m\u001b[43m)\u001b[49m\n\u001b[1;32m    316\u001b[0m \u001b[38;5;28;01mif\u001b[39;00m \u001b[38;5;28mself\u001b[39m\u001b[38;5;241m.\u001b[39mlog:\n\u001b[1;32m    317\u001b[0m     \u001b[38;5;28mprint\u001b[39m(\u001b[38;5;124mf\u001b[39m\u001b[38;5;124m\"\u001b[39m\u001b[38;5;124mRound: \u001b[39m\u001b[38;5;132;01m{\u001b[39;00m\u001b[38;5;28mself\u001b[39m\u001b[38;5;241m.\u001b[39mcurrent_round\u001b[38;5;132;01m}\u001b[39;00m\u001b[38;5;124m Player: \u001b[39m\u001b[38;5;132;01m{\u001b[39;00mplayer_idx\u001b[38;5;132;01m}\u001b[39;00m\u001b[38;5;124m State: \u001b[39m\u001b[38;5;132;01m{\u001b[39;00m\u001b[38;5;28mtuple\u001b[39m(\u001b[38;5;28mself\u001b[39m\u001b[38;5;241m.\u001b[39mgame_state\u001b[38;5;241m.\u001b[39mstate)\u001b[38;5;132;01m}\u001b[39;00m\u001b[38;5;124m Action: \u001b[39m\u001b[38;5;132;01m{\u001b[39;00maction\u001b[38;5;132;01m}\u001b[39;00m\u001b[38;5;124m Value: \u001b[39m\u001b[38;5;132;01m{\u001b[39;00mvalue\u001b[38;5;132;01m}\u001b[39;00m\u001b[38;5;124m\"\u001b[39m)\n",
      "File \u001b[0;32m~/classes/planning/hw2/policies.py:285\u001b[0m, in \u001b[0;36mMCTS.policy\u001b[0;34m(self, state)\u001b[0m\n\u001b[1;32m    283\u001b[0m \u001b[38;5;28;01mdef\u001b[39;00m \u001b[38;5;21mpolicy\u001b[39m(\u001b[38;5;28mself\u001b[39m, state):\n\u001b[1;32m    284\u001b[0m     \u001b[38;5;28;01mfor\u001b[39;00m _ \u001b[38;5;129;01min\u001b[39;00m \u001b[38;5;28mrange\u001b[39m(\u001b[38;5;28mself\u001b[39m\u001b[38;5;241m.\u001b[39mlimit):\n\u001b[0;32m--> 285\u001b[0m         \u001b[38;5;28;43mself\u001b[39;49m\u001b[38;5;241;43m.\u001b[39;49m\u001b[43mwalk_dag\u001b[49m\u001b[43m(\u001b[49m\u001b[43mstate\u001b[49m\u001b[43m,\u001b[49m\u001b[43m \u001b[49m\u001b[38;5;28;43mself\u001b[39;49m\u001b[38;5;241;43m.\u001b[39;49m\u001b[43mplayer\u001b[49m\u001b[43m)\u001b[49m\n\u001b[1;32m    286\u001b[0m     map_action, statekey \u001b[38;5;241m=\u001b[39m normalized_view(state\u001b[38;5;241m.\u001b[39mstate, \u001b[38;5;28mself\u001b[39m\u001b[38;5;241m.\u001b[39mplayer)\n\u001b[1;32m    287\u001b[0m     cached_val \u001b[38;5;241m=\u001b[39m \u001b[38;5;28mself\u001b[39m\u001b[38;5;241m.\u001b[39mcache[statekey]\n",
      "File \u001b[0;32m~/classes/planning/hw2/policies.py:245\u001b[0m, in \u001b[0;36mMCTS.walk_dag\u001b[0;34m(self, state, player)\u001b[0m\n\u001b[1;32m    243\u001b[0m     player \u001b[38;5;241m^\u001b[39m\u001b[38;5;241m=\u001b[39m \u001b[38;5;241m1\u001b[39m\n\u001b[1;32m    244\u001b[0m \u001b[38;5;28;01melse\u001b[39;00m:\n\u001b[0;32m--> 245\u001b[0m     edges \u001b[38;5;241m=\u001b[39m [\u001b[38;5;28mself\u001b[39m\u001b[38;5;241m.\u001b[39mrollout(state, a, player) \u001b[38;5;28;01mfor\u001b[39;00m a \u001b[38;5;129;01min\u001b[39;00m \u001b[38;5;28mself\u001b[39m\u001b[38;5;241m.\u001b[39mactions(state, player)]\n\u001b[1;32m    246\u001b[0m     total_q \u001b[38;5;241m=\u001b[39m \u001b[38;5;28msum\u001b[39m(e\u001b[38;5;241m.\u001b[39mq \u001b[38;5;28;01mfor\u001b[39;00m e \u001b[38;5;129;01min\u001b[39;00m edges)\n\u001b[1;32m    247\u001b[0m     parents \u001b[38;5;241m=\u001b[39m \u001b[38;5;28mset\u001b[39m([parent_key]) \u001b[38;5;28;01mif\u001b[39;00m parent_key \u001b[38;5;129;01mis\u001b[39;00m \u001b[38;5;129;01mnot\u001b[39;00m \u001b[38;5;28;01mNone\u001b[39;00m \u001b[38;5;28;01melse\u001b[39;00m \u001b[38;5;28mset\u001b[39m()\n",
      "File \u001b[0;32m~/classes/planning/hw2/policies.py:245\u001b[0m, in \u001b[0;36m<listcomp>\u001b[0;34m(.0)\u001b[0m\n\u001b[1;32m    243\u001b[0m     player \u001b[38;5;241m^\u001b[39m\u001b[38;5;241m=\u001b[39m \u001b[38;5;241m1\u001b[39m\n\u001b[1;32m    244\u001b[0m \u001b[38;5;28;01melse\u001b[39;00m:\n\u001b[0;32m--> 245\u001b[0m     edges \u001b[38;5;241m=\u001b[39m [\u001b[38;5;28;43mself\u001b[39;49m\u001b[38;5;241;43m.\u001b[39;49m\u001b[43mrollout\u001b[49m\u001b[43m(\u001b[49m\u001b[43mstate\u001b[49m\u001b[43m,\u001b[49m\u001b[43m \u001b[49m\u001b[43ma\u001b[49m\u001b[43m,\u001b[49m\u001b[43m \u001b[49m\u001b[43mplayer\u001b[49m\u001b[43m)\u001b[49m \u001b[38;5;28;01mfor\u001b[39;00m a \u001b[38;5;129;01min\u001b[39;00m \u001b[38;5;28mself\u001b[39m\u001b[38;5;241m.\u001b[39mactions(state, player)]\n\u001b[1;32m    246\u001b[0m     total_q \u001b[38;5;241m=\u001b[39m \u001b[38;5;28msum\u001b[39m(e\u001b[38;5;241m.\u001b[39mq \u001b[38;5;28;01mfor\u001b[39;00m e \u001b[38;5;129;01min\u001b[39;00m edges)\n\u001b[1;32m    247\u001b[0m     parents \u001b[38;5;241m=\u001b[39m \u001b[38;5;28mset\u001b[39m([parent_key]) \u001b[38;5;28;01mif\u001b[39;00m parent_key \u001b[38;5;129;01mis\u001b[39;00m \u001b[38;5;129;01mnot\u001b[39;00m \u001b[38;5;28;01mNone\u001b[39;00m \u001b[38;5;28;01melse\u001b[39;00m \u001b[38;5;28mset\u001b[39m()\n",
      "File \u001b[0;32m~/classes/planning/hw2/policies.py:269\u001b[0m, in \u001b[0;36mMCTS.rollout\u001b[0;34m(self, state, action, player)\u001b[0m\n\u001b[1;32m    267\u001b[0m sim\u001b[38;5;241m.\u001b[39mcurrent_round \u001b[38;5;241m=\u001b[39m player\n\u001b[1;32m    268\u001b[0m sim\u001b[38;5;241m.\u001b[39mgame_state \u001b[38;5;241m=\u001b[39m game\u001b[38;5;241m.\u001b[39mnext_state(state, action, player)\n\u001b[0;32m--> 269\u001b[0m winner \u001b[38;5;241m=\u001b[39m \u001b[43msim\u001b[49m\u001b[38;5;241;43m.\u001b[39;49m\u001b[43mgo\u001b[49m\u001b[43m(\u001b[49m\u001b[43m)\u001b[49m\n\u001b[1;32m    270\u001b[0m \u001b[38;5;28;01mif\u001b[39;00m winner \u001b[38;5;241m==\u001b[39m player:\n\u001b[1;32m    271\u001b[0m     q \u001b[38;5;241m=\u001b[39m \u001b[38;5;241m1\u001b[39m\n",
      "File \u001b[0;32m~/classes/planning/hw2/game.py:315\u001b[0m, in \u001b[0;36mGameSimulator.go\u001b[0;34m(self)\u001b[0m\n\u001b[1;32m    311\u001b[0m     \u001b[38;5;28;01mreturn\u001b[39;00m \u001b[38;5;28;01mNone\u001b[39;00m\n\u001b[1;32m    313\u001b[0m \u001b[38;5;66;03m## For the player who needs to move, provide them with the current game state\u001b[39;00m\n\u001b[1;32m    314\u001b[0m \u001b[38;5;66;03m## and then ask them to choose an action according to their policy\u001b[39;00m\n\u001b[0;32m--> 315\u001b[0m action, value \u001b[38;5;241m=\u001b[39m \u001b[38;5;28;43mself\u001b[39;49m\u001b[38;5;241;43m.\u001b[39;49m\u001b[43mplayers\u001b[49m\u001b[43m[\u001b[49m\u001b[43mplayer_idx\u001b[49m\u001b[43m]\u001b[49m\u001b[38;5;241;43m.\u001b[39;49m\u001b[43mpolicy\u001b[49m\u001b[43m(\u001b[49m\u001b[43m \u001b[49m\u001b[38;5;28;43mself\u001b[39;49m\u001b[38;5;241;43m.\u001b[39;49m\u001b[43mgame_state\u001b[49m\u001b[43m \u001b[49m\u001b[43m)\u001b[49m\n\u001b[1;32m    316\u001b[0m \u001b[38;5;28;01mif\u001b[39;00m \u001b[38;5;28mself\u001b[39m\u001b[38;5;241m.\u001b[39mlog:\n\u001b[1;32m    317\u001b[0m     \u001b[38;5;28mprint\u001b[39m(\u001b[38;5;124mf\u001b[39m\u001b[38;5;124m\"\u001b[39m\u001b[38;5;124mRound: \u001b[39m\u001b[38;5;132;01m{\u001b[39;00m\u001b[38;5;28mself\u001b[39m\u001b[38;5;241m.\u001b[39mcurrent_round\u001b[38;5;132;01m}\u001b[39;00m\u001b[38;5;124m Player: \u001b[39m\u001b[38;5;132;01m{\u001b[39;00mplayer_idx\u001b[38;5;132;01m}\u001b[39;00m\u001b[38;5;124m State: \u001b[39m\u001b[38;5;132;01m{\u001b[39;00m\u001b[38;5;28mtuple\u001b[39m(\u001b[38;5;28mself\u001b[39m\u001b[38;5;241m.\u001b[39mgame_state\u001b[38;5;241m.\u001b[39mstate)\u001b[38;5;132;01m}\u001b[39;00m\u001b[38;5;124m Action: \u001b[39m\u001b[38;5;132;01m{\u001b[39;00maction\u001b[38;5;132;01m}\u001b[39;00m\u001b[38;5;124m Value: \u001b[39m\u001b[38;5;132;01m{\u001b[39;00mvalue\u001b[38;5;132;01m}\u001b[39;00m\u001b[38;5;124m\"\u001b[39m)\n",
      "File \u001b[0;32m~/classes/planning/hw2/policies.py:128\u001b[0m, in \u001b[0;36mRandPolicy.policy\u001b[0;34m(self, state)\u001b[0m\n\u001b[1;32m    127\u001b[0m \u001b[38;5;28;01mdef\u001b[39;00m \u001b[38;5;21mpolicy\u001b[39m(\u001b[38;5;28mself\u001b[39m, state):\n\u001b[0;32m--> 128\u001b[0m     actions \u001b[38;5;241m=\u001b[39m \u001b[38;5;28;43mself\u001b[39;49m\u001b[38;5;241;43m.\u001b[39;49m\u001b[43mactions\u001b[49m\u001b[43m(\u001b[49m\u001b[43mstate\u001b[49m\u001b[43m,\u001b[49m\u001b[43m \u001b[49m\u001b[38;5;28;43mself\u001b[39;49m\u001b[38;5;241;43m.\u001b[39;49m\u001b[43mplayer\u001b[49m\u001b[43m)\u001b[49m\n\u001b[1;32m    129\u001b[0m     chosen \u001b[38;5;241m=\u001b[39m random\u001b[38;5;241m.\u001b[39mrandrange(\u001b[38;5;28mlen\u001b[39m(actions))\n\u001b[1;32m    130\u001b[0m     \u001b[38;5;28;01mreturn\u001b[39;00m (actions[chosen], \u001b[38;5;241m0\u001b[39m)\n",
      "File \u001b[0;32m~/classes/planning/hw2/policies.py:24\u001b[0m, in \u001b[0;36mPolicy.actions\u001b[0;34m(self, state, player)\u001b[0m\n\u001b[1;32m     23\u001b[0m \u001b[38;5;28;01mdef\u001b[39;00m \u001b[38;5;21mactions\u001b[39m(\u001b[38;5;28mself\u001b[39m, state: BoardState, player: PlayerIx) \u001b[38;5;241m-\u001b[39m\u001b[38;5;241m>\u001b[39m List[Action]:\n\u001b[0;32m---> 24\u001b[0m     \u001b[38;5;28;01mreturn\u001b[39;00m \u001b[38;5;28;43mlist\u001b[39;49m\u001b[43m(\u001b[49m\u001b[43mgame\u001b[49m\u001b[38;5;241;43m.\u001b[39;49m\u001b[43mgenerate_valid_actions\u001b[49m\u001b[43m(\u001b[49m\u001b[43mstate\u001b[49m\u001b[43m,\u001b[49m\u001b[43m \u001b[49m\u001b[43mplayer\u001b[49m\u001b[43m)\u001b[49m\u001b[43m)\u001b[49m\n",
      "File \u001b[0;32m~/classes/planning/hw2/game.py:273\u001b[0m, in \u001b[0;36mgenerate_valid_actions\u001b[0;34m(state, player_ix, can_move)\u001b[0m\n\u001b[1;32m    271\u001b[0m         \u001b[38;5;28;01mfor\u001b[39;00m action \u001b[38;5;129;01min\u001b[39;00m Rules\u001b[38;5;241m.\u001b[39msingle_piece_actions(state, piece):\n\u001b[1;32m    272\u001b[0m            \u001b[38;5;28;01myield\u001b[39;00m (i, action)\n\u001b[0;32m--> 273\u001b[0m \u001b[38;5;28;01mfor\u001b[39;00m action \u001b[38;5;129;01min\u001b[39;00m \u001b[43mRules\u001b[49m\u001b[38;5;241;43m.\u001b[39;49m\u001b[43msingle_ball_actions\u001b[49m\u001b[43m(\u001b[49m\u001b[43mstate\u001b[49m\u001b[43m,\u001b[49m\u001b[43m \u001b[49m\u001b[43mplayer_ix\u001b[49m\u001b[43m)\u001b[49m:\n\u001b[1;32m    274\u001b[0m     \u001b[38;5;28;01myield\u001b[39;00m (\u001b[38;5;241m5\u001b[39m, action)\n",
      "File \u001b[0;32m~/classes/planning/hw2/game.py:211\u001b[0m, in \u001b[0;36mRules.single_ball_actions\u001b[0;34m(st, player_ix)\u001b[0m\n\u001b[1;32m    198\u001b[0m \u001b[38;5;129m@staticmethod\u001b[39m\n\u001b[1;32m    199\u001b[0m \u001b[38;5;28;01mdef\u001b[39;00m \u001b[38;5;21msingle_ball_actions\u001b[39m(st: BoardState, player_ix: PlayerIx) \u001b[38;5;241m-\u001b[39m\u001b[38;5;241m>\u001b[39m Iterable[EncPos]:\n\u001b[1;32m    200\u001b[0m \u001b[38;5;250m    \u001b[39m\u001b[38;5;124;03m\"\"\"\u001b[39;00m\n\u001b[1;32m    201\u001b[0m \u001b[38;5;124;03m    Returns the set of possible actions for moving the specified ball, assumed to be the\u001b[39;00m\n\u001b[1;32m    202\u001b[0m \u001b[38;5;124;03m    valid ball for player_idx  in the board_state\u001b[39;00m\n\u001b[0;32m   (...)\u001b[0m\n\u001b[1;32m    209\u001b[0m \u001b[38;5;124;03m        that player_idx's ball can move to during this turn.\u001b[39;00m\n\u001b[1;32m    210\u001b[0m \u001b[38;5;124;03m    \"\"\"\u001b[39;00m\n\u001b[0;32m--> 211\u001b[0m     \u001b[38;5;28;01mreturn\u001b[39;00m \u001b[43mRules\u001b[49m\u001b[38;5;241;43m.\u001b[39;49m\u001b[43mball_actions_from\u001b[49m\u001b[43m(\u001b[49m\u001b[43mst\u001b[49m\u001b[43m,\u001b[49m\u001b[43m \u001b[49m\u001b[43mst\u001b[49m\u001b[38;5;241;43m.\u001b[39;49m\u001b[43mstate\u001b[49m\u001b[43m[\u001b[49m\u001b[43mst\u001b[49m\u001b[38;5;241;43m.\u001b[39;49m\u001b[43mb\u001b[49m\u001b[43m[\u001b[49m\u001b[43mplayer_ix\u001b[49m\u001b[43m]\u001b[49m\u001b[43m]\u001b[49m\u001b[43m,\u001b[49m\u001b[43m \u001b[49m\u001b[43mplayer_ix\u001b[49m\u001b[43m)\u001b[49m\n",
      "File \u001b[0;32m~/classes/planning/hw2/game.py:222\u001b[0m, in \u001b[0;36mRules.ball_actions_from\u001b[0;34m(st, y, player_ix)\u001b[0m\n\u001b[1;32m    220\u001b[0m \u001b[38;5;28;01mwhile\u001b[39;00m \u001b[38;5;129;01mnot\u001b[39;00m balls\u001b[38;5;241m.\u001b[39mempty():\n\u001b[1;32m    221\u001b[0m     x \u001b[38;5;241m=\u001b[39m balls\u001b[38;5;241m.\u001b[39mget()\n\u001b[0;32m--> 222\u001b[0m     \u001b[38;5;28;01mfor\u001b[39;00m yy \u001b[38;5;129;01min\u001b[39;00m Rules\u001b[38;5;241m.\u001b[39mpass_actions(st, player_ix, x, passes):\n\u001b[1;32m    223\u001b[0m         passes\u001b[38;5;241m.\u001b[39madd(yy)\n\u001b[1;32m    224\u001b[0m         balls\u001b[38;5;241m.\u001b[39mput(decode(yy))\n",
      "File \u001b[0;32m~/classes/planning/hw2/game.py:252\u001b[0m, in \u001b[0;36mRules.pass_actions\u001b[0;34m(st, player_ix, x, passes)\u001b[0m\n\u001b[1;32m    250\u001b[0m newmove \u001b[38;5;241m=\u001b[39m PotentialMove(n, p, y)\n\u001b[1;32m    251\u001b[0m \u001b[38;5;28;01mif\u001b[39;00m u \u001b[38;5;129;01min\u001b[39;00m moves:\n\u001b[0;32m--> 252\u001b[0m     moves[u] \u001b[38;5;241m=\u001b[39m \u001b[43mlub\u001b[49m\u001b[43m(\u001b[49m\u001b[43mmoves\u001b[49m\u001b[43m[\u001b[49m\u001b[43mu\u001b[49m\u001b[43m]\u001b[49m\u001b[43m,\u001b[49m\u001b[43m \u001b[49m\u001b[43mnewmove\u001b[49m\u001b[43m)\u001b[49m\n\u001b[1;32m    253\u001b[0m \u001b[38;5;28;01melse\u001b[39;00m:\n\u001b[1;32m    254\u001b[0m     moves[u] \u001b[38;5;241m=\u001b[39m newmove\n",
      "File \u001b[0;32m~/classes/planning/hw2/game.py:166\u001b[0m, in \u001b[0;36mlub\u001b[0;34m(a, b)\u001b[0m\n\u001b[1;32m    164\u001b[0m     \u001b[38;5;28;01mreturn\u001b[39;00m a\n\u001b[1;32m    165\u001b[0m \u001b[38;5;28;01mif\u001b[39;00m a\u001b[38;5;241m.\u001b[39mnorm \u001b[38;5;241m==\u001b[39m b\u001b[38;5;241m.\u001b[39mnorm:\n\u001b[0;32m--> 166\u001b[0m     \u001b[38;5;28;01mraise\u001b[39;00m \u001b[38;5;167;01mValueError\u001b[39;00m(\u001b[38;5;124m\"\u001b[39m\u001b[38;5;124mTwo pieces at the same position\u001b[39m\u001b[38;5;124m\"\u001b[39m)\n\u001b[1;32m    167\u001b[0m \u001b[38;5;28;01mreturn\u001b[39;00m b\n",
      "\u001b[0;31mValueError\u001b[0m: Two pieces at the same position"
     ]
    }
   ],
   "source": [
    "mcts_game()"
   ]
  },
  {
   "cell_type": "code",
   "execution_count": 37,
   "id": "c7e2b03b",
   "metadata": {
    "ExecuteTime": {
     "end_time": "2023-02-19T17:11:38.213872Z",
     "start_time": "2023-02-19T17:11:38.206263Z"
    }
   },
   "outputs": [
    {
     "data": {
      "text/plain": [
       "array([[1, 0],\n",
       "       [2, 0],\n",
       "       [3, 0],\n",
       "       [4, 0],\n",
       "       [5, 0],\n",
       "       [3, 0],\n",
       "       [1, 7],\n",
       "       [2, 7],\n",
       "       [3, 7],\n",
       "       [4, 7],\n",
       "       [5, 7],\n",
       "       [3, 7]])"
      ]
     },
     "execution_count": 37,
     "metadata": {},
     "output_type": "execute_result"
    }
   ],
   "source": [
    "game.decode(game.default_start_state)"
   ]
  },
  {
   "cell_type": "code",
   "execution_count": 7,
   "id": "621af78e",
   "metadata": {
    "ExecuteTime": {
     "end_time": "2023-02-19T16:16:19.409602Z",
     "start_time": "2023-02-19T16:14:58.466335Z"
    }
   },
   "outputs": [
    {
     "name": "stdout",
     "output_type": "stream",
     "text": [
      "> \u001b[0;32m/home/sam/classes/planning/hw2/game.py\u001b[0m(166)\u001b[0;36mlub\u001b[0;34m()\u001b[0m\n",
      "\u001b[0;32m    164 \u001b[0;31m        \u001b[0;32mreturn\u001b[0m \u001b[0ma\u001b[0m\u001b[0;34m\u001b[0m\u001b[0;34m\u001b[0m\u001b[0m\n",
      "\u001b[0m\u001b[0;32m    165 \u001b[0;31m    \u001b[0;32mif\u001b[0m \u001b[0ma\u001b[0m\u001b[0;34m.\u001b[0m\u001b[0mnorm\u001b[0m \u001b[0;34m==\u001b[0m \u001b[0mb\u001b[0m\u001b[0;34m.\u001b[0m\u001b[0mnorm\u001b[0m\u001b[0;34m:\u001b[0m\u001b[0;34m\u001b[0m\u001b[0;34m\u001b[0m\u001b[0m\n",
      "\u001b[0m\u001b[0;32m--> 166 \u001b[0;31m        \u001b[0;32mraise\u001b[0m \u001b[0mValueError\u001b[0m\u001b[0;34m(\u001b[0m\u001b[0;34m\"Two pieces at the same position\"\u001b[0m\u001b[0;34m)\u001b[0m\u001b[0;34m\u001b[0m\u001b[0;34m\u001b[0m\u001b[0m\n",
      "\u001b[0m\u001b[0;32m    167 \u001b[0;31m    \u001b[0;32mreturn\u001b[0m \u001b[0mb\u001b[0m\u001b[0;34m\u001b[0m\u001b[0;34m\u001b[0m\u001b[0m\n",
      "\u001b[0m\u001b[0;32m    168 \u001b[0;31m\u001b[0;34m\u001b[0m\u001b[0m\n",
      "\u001b[0m\n",
      "ipdb> print(a)\n",
      "PotentialMove(norm=1, player=0, y=7)\n",
      "ipdb> print(b)\n",
      "PotentialMove(norm=1, player=1, y=7)\n",
      "ipdb> u\n",
      "> \u001b[0;32m/home/sam/classes/planning/hw2/game.py\u001b[0m(252)\u001b[0;36mpass_actions\u001b[0;34m()\u001b[0m\n",
      "\u001b[0;32m    250 \u001b[0;31m            \u001b[0mnewmove\u001b[0m \u001b[0;34m=\u001b[0m \u001b[0mPotentialMove\u001b[0m\u001b[0;34m(\u001b[0m\u001b[0mn\u001b[0m\u001b[0;34m,\u001b[0m \u001b[0mp\u001b[0m\u001b[0;34m,\u001b[0m \u001b[0my\u001b[0m\u001b[0;34m)\u001b[0m\u001b[0;34m\u001b[0m\u001b[0;34m\u001b[0m\u001b[0m\n",
      "\u001b[0m\u001b[0;32m    251 \u001b[0;31m            \u001b[0;32mif\u001b[0m \u001b[0mu\u001b[0m \u001b[0;32min\u001b[0m \u001b[0mmoves\u001b[0m\u001b[0;34m:\u001b[0m\u001b[0;34m\u001b[0m\u001b[0;34m\u001b[0m\u001b[0m\n",
      "\u001b[0m\u001b[0;32m--> 252 \u001b[0;31m                \u001b[0mmoves\u001b[0m\u001b[0;34m[\u001b[0m\u001b[0mu\u001b[0m\u001b[0;34m]\u001b[0m \u001b[0;34m=\u001b[0m \u001b[0mlub\u001b[0m\u001b[0;34m(\u001b[0m\u001b[0mmoves\u001b[0m\u001b[0;34m[\u001b[0m\u001b[0mu\u001b[0m\u001b[0;34m]\u001b[0m\u001b[0;34m,\u001b[0m \u001b[0mnewmove\u001b[0m\u001b[0;34m)\u001b[0m\u001b[0;34m\u001b[0m\u001b[0;34m\u001b[0m\u001b[0m\n",
      "\u001b[0m\u001b[0;32m    253 \u001b[0;31m            \u001b[0;32melse\u001b[0m\u001b[0;34m:\u001b[0m\u001b[0;34m\u001b[0m\u001b[0;34m\u001b[0m\u001b[0m\n",
      "\u001b[0m\u001b[0;32m    254 \u001b[0;31m                \u001b[0mmoves\u001b[0m\u001b[0;34m[\u001b[0m\u001b[0mu\u001b[0m\u001b[0;34m]\u001b[0m \u001b[0;34m=\u001b[0m \u001b[0mnewmove\u001b[0m\u001b[0;34m\u001b[0m\u001b[0;34m\u001b[0m\u001b[0m\n",
      "\u001b[0m\n",
      "ipdb> u\n",
      "> \u001b[0;32m/home/sam/classes/planning/hw2/game.py\u001b[0m(222)\u001b[0;36mball_actions_from\u001b[0;34m()\u001b[0m\n",
      "\u001b[0;32m    220 \u001b[0;31m        \u001b[0;32mwhile\u001b[0m \u001b[0;32mnot\u001b[0m \u001b[0mballs\u001b[0m\u001b[0;34m.\u001b[0m\u001b[0mempty\u001b[0m\u001b[0;34m(\u001b[0m\u001b[0;34m)\u001b[0m\u001b[0;34m:\u001b[0m\u001b[0;34m\u001b[0m\u001b[0;34m\u001b[0m\u001b[0m\n",
      "\u001b[0m\u001b[0;32m    221 \u001b[0;31m            \u001b[0mx\u001b[0m \u001b[0;34m=\u001b[0m \u001b[0mballs\u001b[0m\u001b[0;34m.\u001b[0m\u001b[0mget\u001b[0m\u001b[0;34m(\u001b[0m\u001b[0;34m)\u001b[0m\u001b[0;34m\u001b[0m\u001b[0;34m\u001b[0m\u001b[0m\n",
      "\u001b[0m\u001b[0;32m--> 222 \u001b[0;31m            \u001b[0;32mfor\u001b[0m \u001b[0myy\u001b[0m \u001b[0;32min\u001b[0m \u001b[0mRules\u001b[0m\u001b[0;34m.\u001b[0m\u001b[0mpass_actions\u001b[0m\u001b[0;34m(\u001b[0m\u001b[0mst\u001b[0m\u001b[0;34m,\u001b[0m \u001b[0mplayer_ix\u001b[0m\u001b[0;34m,\u001b[0m \u001b[0mx\u001b[0m\u001b[0;34m,\u001b[0m \u001b[0mpasses\u001b[0m\u001b[0;34m)\u001b[0m\u001b[0;34m:\u001b[0m\u001b[0;34m\u001b[0m\u001b[0;34m\u001b[0m\u001b[0m\n",
      "\u001b[0m\u001b[0;32m    223 \u001b[0;31m                \u001b[0mpasses\u001b[0m\u001b[0;34m.\u001b[0m\u001b[0madd\u001b[0m\u001b[0;34m(\u001b[0m\u001b[0myy\u001b[0m\u001b[0;34m)\u001b[0m\u001b[0;34m\u001b[0m\u001b[0;34m\u001b[0m\u001b[0m\n",
      "\u001b[0m\u001b[0;32m    224 \u001b[0;31m                \u001b[0mballs\u001b[0m\u001b[0;34m.\u001b[0m\u001b[0mput\u001b[0m\u001b[0;34m(\u001b[0m\u001b[0mdecode\u001b[0m\u001b[0;34m(\u001b[0m\u001b[0myy\u001b[0m\u001b[0;34m)\u001b[0m\u001b[0;34m)\u001b[0m\u001b[0;34m\u001b[0m\u001b[0;34m\u001b[0m\u001b[0m\n",
      "\u001b[0m\n",
      "ipdb> print(st)\n",
      "<game.BoardState object at 0x7f683dce1030>\n",
      "ipdb> from pmextract import extract\n",
      "ipdb> extract()\n",
      "*** RuntimeError: Copied <module>'s variables to <module>\n",
      "ipdb> q\n"
     ]
    }
   ],
   "source": [
    "pdb.pm()"
   ]
  },
  {
   "cell_type": "code",
   "execution_count": 25,
   "id": "9b7e137b",
   "metadata": {
    "ExecuteTime": {
     "end_time": "2023-02-19T17:02:52.661121Z",
     "start_time": "2023-02-19T17:02:52.650954Z"
    }
   },
   "outputs": [
    {
     "data": {
      "text/plain": [
       "[(-1, -1), (1, -1), (-1, -1)]"
      ]
     },
     "execution_count": 25,
     "metadata": {},
     "output_type": "execute_result"
    }
   ],
   "source": [
    "units"
   ]
  },
  {
   "cell_type": "code",
   "execution_count": 26,
   "id": "6d702ef4",
   "metadata": {
    "ExecuteTime": {
     "end_time": "2023-02-19T17:03:38.392128Z",
     "start_time": "2023-02-19T17:03:38.383489Z"
    }
   },
   "outputs": [
    {
     "data": {
      "text/plain": [
       "array([[-1, -1],\n",
       "       [ 0,  0],\n",
       "       [ 2, -2],\n",
       "       [ 3, -2],\n",
       "       [ 4, -2],\n",
       "       [ 2, -1],\n",
       "       [-1, -1],\n",
       "       [ 2,  5],\n",
       "       [ 3,  5],\n",
       "       [ 4,  5]])"
      ]
     },
     "execution_count": 26,
     "metadata": {},
     "output_type": "execute_result"
    }
   ],
   "source": [
    "vecs"
   ]
  },
  {
   "cell_type": "code",
   "execution_count": 36,
   "id": "cecf0b08",
   "metadata": {
    "ExecuteTime": {
     "end_time": "2023-02-19T17:07:48.056032Z",
     "start_time": "2023-02-19T17:07:48.048712Z"
    }
   },
   "outputs": [
    {
     "data": {
      "text/plain": [
       "array([ 7, 15,  3,  4,  5,  3, 10,  7, 52, 53, 54, 52])"
      ]
     },
     "execution_count": 36,
     "metadata": {},
     "output_type": "execute_result"
    }
   ],
   "source": [
    "st.state"
   ]
  },
  {
   "cell_type": "code",
   "execution_count": 33,
   "id": "74214d71",
   "metadata": {
    "ExecuteTime": {
     "end_time": "2023-02-19T17:06:38.761324Z",
     "start_time": "2023-02-19T17:06:38.753122Z"
    }
   },
   "outputs": [
    {
     "data": {
      "text/plain": [
       "array([[0, 1],\n",
       "       [1, 2],\n",
       "       [3, 0],\n",
       "       [4, 0],\n",
       "       [5, 0],\n",
       "       [3, 1],\n",
       "       [0, 1],\n",
       "       [3, 7],\n",
       "       [4, 7],\n",
       "       [5, 7]])"
      ]
     },
     "execution_count": 33,
     "metadata": {},
     "output_type": "execute_result"
    }
   ],
   "source": [
    "st.stated[st.block_locs, :]"
   ]
  },
  {
   "cell_type": "code",
   "execution_count": 23,
   "id": "360890a6",
   "metadata": {
    "ExecuteTime": {
     "end_time": "2023-02-19T17:01:04.751771Z",
     "start_time": "2023-02-19T17:01:04.592988Z"
    }
   },
   "outputs": [
    {
     "ename": "ValueError",
     "evalue": "Two pieces at the same position",
     "output_type": "error",
     "traceback": [
      "\u001b[0;31m---------------------------------------------------------------------------\u001b[0m",
      "\u001b[0;31mValueError\u001b[0m                                Traceback (most recent call last)",
      "Cell \u001b[0;32mIn[23], line 1\u001b[0m\n\u001b[0;32m----> 1\u001b[0m \u001b[38;5;28;43mlist\u001b[39;49m\u001b[43m(\u001b[49m\u001b[43mgame\u001b[49m\u001b[38;5;241;43m.\u001b[39;49m\u001b[43mRules\u001b[49m\u001b[38;5;241;43m.\u001b[39;49m\u001b[43mpass_actions\u001b[49m\u001b[43m(\u001b[49m\u001b[43mst\u001b[49m\u001b[43m,\u001b[49m\u001b[43m \u001b[49m\u001b[43mplayer_ix\u001b[49m\u001b[43m,\u001b[49m\u001b[43m \u001b[49m\u001b[43mx\u001b[49m\u001b[43m,\u001b[49m\u001b[43m \u001b[49m\u001b[43mpasses\u001b[49m\u001b[43m)\u001b[49m\u001b[43m)\u001b[49m\n",
      "File \u001b[0;32m~/classes/planning/hw2/game.py:252\u001b[0m, in \u001b[0;36mRules.pass_actions\u001b[0;34m(st, player_ix, x, passes)\u001b[0m\n\u001b[1;32m    250\u001b[0m newmove \u001b[38;5;241m=\u001b[39m PotentialMove(n, p, y)\n\u001b[1;32m    251\u001b[0m \u001b[38;5;28;01mif\u001b[39;00m u \u001b[38;5;129;01min\u001b[39;00m moves:\n\u001b[0;32m--> 252\u001b[0m     moves[u] \u001b[38;5;241m=\u001b[39m \u001b[43mlub\u001b[49m\u001b[43m(\u001b[49m\u001b[43mmoves\u001b[49m\u001b[43m[\u001b[49m\u001b[43mu\u001b[49m\u001b[43m]\u001b[49m\u001b[43m,\u001b[49m\u001b[43m \u001b[49m\u001b[43mnewmove\u001b[49m\u001b[43m)\u001b[49m\n\u001b[1;32m    253\u001b[0m \u001b[38;5;28;01melse\u001b[39;00m:\n\u001b[1;32m    254\u001b[0m     moves[u] \u001b[38;5;241m=\u001b[39m newmove\n",
      "File \u001b[0;32m~/classes/planning/hw2/game.py:166\u001b[0m, in \u001b[0;36mlub\u001b[0;34m(a, b)\u001b[0m\n\u001b[1;32m    164\u001b[0m     \u001b[38;5;28;01mreturn\u001b[39;00m a\n\u001b[1;32m    165\u001b[0m \u001b[38;5;28;01mif\u001b[39;00m a\u001b[38;5;241m.\u001b[39mnorm \u001b[38;5;241m==\u001b[39m b\u001b[38;5;241m.\u001b[39mnorm:\n\u001b[0;32m--> 166\u001b[0m     \u001b[38;5;28;01mraise\u001b[39;00m \u001b[38;5;167;01mValueError\u001b[39;00m(\u001b[38;5;124m\"\u001b[39m\u001b[38;5;124mTwo pieces at the same position\u001b[39m\u001b[38;5;124m\"\u001b[39m)\n\u001b[1;32m    167\u001b[0m \u001b[38;5;28;01mreturn\u001b[39;00m b\n",
      "\u001b[0;31mValueError\u001b[0m: Two pieces at the same position"
     ]
    }
   ],
   "source": [
    "list(game.Rules.pass_actions(st, player_ix, x, passes))"
   ]
  },
  {
   "cell_type": "code",
   "execution_count": 21,
   "id": "9616227a",
   "metadata": {
    "ExecuteTime": {
     "end_time": "2023-02-19T16:59:08.025573Z",
     "start_time": "2023-02-19T16:59:08.015233Z"
    }
   },
   "outputs": [
    {
     "data": {
      "text/plain": [
       "{(-1, -1): PotentialMove(norm=1, player=0, y=7),\n",
       " (1, -1): PotentialMove(norm=2, player=0, y=3)}"
      ]
     },
     "execution_count": 21,
     "metadata": {},
     "output_type": "execute_result"
    }
   ],
   "source": [
    "moves"
   ]
  },
  {
   "cell_type": "code",
   "execution_count": 22,
   "id": "47ac3108",
   "metadata": {
    "ExecuteTime": {
     "end_time": "2023-02-19T17:00:34.404763Z",
     "start_time": "2023-02-19T17:00:34.395529Z"
    }
   },
   "outputs": [
    {
     "data": {
      "text/plain": [
       "<generator object Rules.pass_actions.<locals>.<genexpr> at 0x7f683d465ee0>"
      ]
     },
     "execution_count": 22,
     "metadata": {},
     "output_type": "execute_result"
    }
   ],
   "source": []
  },
  {
   "cell_type": "code",
   "execution_count": 16,
   "id": "03724159",
   "metadata": {
    "ExecuteTime": {
     "end_time": "2023-02-19T16:23:55.585925Z",
     "start_time": "2023-02-19T16:23:55.576316Z"
    }
   },
   "outputs": [
    {
     "data": {
      "text/plain": [
       "array([1, 2])"
      ]
     },
     "execution_count": 16,
     "metadata": {},
     "output_type": "execute_result"
    }
   ],
   "source": [
    "x"
   ]
  },
  {
   "cell_type": "markdown",
   "id": "94ad6990",
   "metadata": {},
   "source": [
    "We should able to pass to 01 and 30. That's it.  "
   ]
  },
  {
   "cell_type": "code",
   "execution_count": 17,
   "id": "7cd55649",
   "metadata": {
    "ExecuteTime": {
     "end_time": "2023-02-19T16:57:20.762230Z",
     "start_time": "2023-02-19T16:57:20.740351Z"
    }
   },
   "outputs": [
    {
     "ename": "NameError",
     "evalue": "name 'moves' is not defined",
     "output_type": "error",
     "traceback": [
      "\u001b[0;31m---------------------------------------------------------------------------\u001b[0m",
      "\u001b[0;31mNameError\u001b[0m                                 Traceback (most recent call last)",
      "Cell \u001b[0;32mIn[17], line 1\u001b[0m\n\u001b[0;32m----> 1\u001b[0m \u001b[43mmoves\u001b[49m\n",
      "\u001b[0;31mNameError\u001b[0m: name 'moves' is not defined"
     ]
    }
   ],
   "source": [
    "moves"
   ]
  },
  {
   "cell_type": "code",
   "execution_count": 15,
   "id": "56330c4a",
   "metadata": {
    "ExecuteTime": {
     "end_time": "2023-02-19T16:20:50.428576Z",
     "start_time": "2023-02-19T16:20:50.418189Z"
    }
   },
   "outputs": [
    {
     "data": {
      "text/plain": [
       "array([ 7, 15,  3,  4,  5,  3, 10,  7, 52, 53, 54, 52])"
      ]
     },
     "execution_count": 15,
     "metadata": {},
     "output_type": "execute_result"
    }
   ],
   "source": [
    "st.state"
   ]
  },
  {
   "cell_type": "code",
   "execution_count": 9,
   "id": "7e1389f4",
   "metadata": {
    "ExecuteTime": {
     "end_time": "2023-02-19T16:16:59.730416Z",
     "start_time": "2023-02-19T16:16:59.561710Z"
    }
   },
   "outputs": [
    {
     "data": {
      "image/png": "[encoded data removed]",
      "text/plain": [
       "<Figure size 640x480 with 1 Axes>"
      ]
     },
     "metadata": {},
     "output_type": "display_data"
    }
   ],
   "source": [
    "util.plotstate(st.stated)"
   ]
  },
  {
   "cell_type": "code",
   "execution_count": 10,
   "id": "0269fc69",
   "metadata": {
    "ExecuteTime": {
     "end_time": "2023-02-19T16:17:24.200719Z",
     "start_time": "2023-02-19T16:17:24.189268Z"
    }
   },
   "outputs": [
    {
     "data": {
      "text/plain": [
       "array([ 7, 15,  3,  4,  5,  3, 10,  7, 52, 53, 54, 52])"
      ]
     },
     "execution_count": 10,
     "metadata": {},
     "output_type": "execute_result"
    }
   ],
   "source": [
    "st.state"
   ]
  },
  {
   "cell_type": "code",
   "execution_count": 8,
   "id": "54f0ae57",
   "metadata": {
    "ExecuteTime": {
     "end_time": "2023-02-19T16:16:48.375078Z",
     "start_time": "2023-02-19T16:16:48.363860Z"
    }
   },
   "outputs": [],
   "source": [
    "import util"
   ]
  },
  {
   "cell_type": "code",
   "execution_count": 16,
   "id": "3f44b56f",
   "metadata": {
    "ExecuteTime": {
     "end_time": "2023-02-17T16:33:11.043996Z",
     "start_time": "2023-02-17T16:33:11.028392Z"
    }
   },
   "outputs": [],
   "source": [
    "def rand_game():\n",
    "    players = [RandPolicy(0), RandPolicy(1)]\n",
    "    sim = game.GameSimulator(players, n_steps=800)\n",
    "    sim.run()\n",
    "    return sim"
   ]
  },
  {
   "cell_type": "code",
   "execution_count": 17,
   "id": "4709765c",
   "metadata": {
    "ExecuteTime": {
     "end_time": "2023-02-17T16:33:21.941384Z",
     "start_time": "2023-02-17T16:33:17.479506Z"
    }
   },
   "outputs": [],
   "source": [
    "rand_games = [rand_game() for _ in range(50)]"
   ]
  },
  {
   "cell_type": "code",
   "execution_count": 22,
   "id": "2a710938",
   "metadata": {
    "ExecuteTime": {
     "end_time": "2023-02-17T16:35:36.963278Z",
     "start_time": "2023-02-17T16:35:36.796116Z"
    }
   },
   "outputs": [
    {
     "data": {
      "image/png": "[encoded data removed]",
      "text/plain": [
       "<Figure size 640x480 with 1 Axes>"
      ]
     },
     "metadata": {},
     "output_type": "display_data"
    }
   ],
   "source": [
    "plt.hist([g.current_round for g in rand_games]);"
   ]
  },
  {
   "cell_type": "code",
   "execution_count": 27,
   "id": "aa3ae004",
   "metadata": {
    "ExecuteTime": {
     "end_time": "2023-02-17T16:37:11.306085Z",
     "start_time": "2023-02-17T16:37:11.292950Z"
    }
   },
   "outputs": [
    {
     "data": {
      "text/plain": [
       "0.62"
      ]
     },
     "execution_count": 27,
     "metadata": {},
     "output_type": "execute_result"
    }
   ],
   "source": [
    "np.mean([g.winner() for g in rand_games])"
   ]
  },
  {
   "cell_type": "code",
   "execution_count": 30,
   "id": "52f1454c",
   "metadata": {
    "ExecuteTime": {
     "end_time": "2023-02-17T16:37:55.694211Z",
     "start_time": "2023-02-17T16:37:55.682722Z"
    }
   },
   "outputs": [],
   "source": [
    "def minimax_rand():\n",
    "    players = [MinimaxPolicy(0), RandPolicy(1)]\n",
    "    sim = game.GameSimulator(players, n_steps=700)\n",
    "    sim.run()\n",
    "    return sim"
   ]
  },
  {
   "cell_type": "code",
   "execution_count": 31,
   "id": "0f262beb",
   "metadata": {
    "ExecuteTime": {
     "end_time": "2023-02-17T16:38:22.867440Z",
     "start_time": "2023-02-17T16:37:56.565090Z"
    }
   },
   "outputs": [],
   "source": [
    "mm_games = [minimax_rand() for _ in range(20)]"
   ]
  },
  {
   "cell_type": "code",
   "execution_count": 32,
   "id": "360dfb5d",
   "metadata": {
    "ExecuteTime": {
     "end_time": "2023-02-17T16:38:59.000956Z",
     "start_time": "2023-02-17T16:38:58.986736Z"
    }
   },
   "outputs": [
    {
     "data": {
      "text/plain": [
       "0.1"
      ]
     },
     "execution_count": 32,
     "metadata": {},
     "output_type": "execute_result"
    }
   ],
   "source": [
    "np.mean([g.winner() for g in mm_games])"
   ]
  },
  {
   "cell_type": "markdown",
   "id": "c67f6e87",
   "metadata": {},
   "source": [
    "So Minimax, even with depth 3 and no hueristic, is already way better than random!"
   ]
  },
  {
   "cell_type": "code",
   "execution_count": 33,
   "id": "b61e206f",
   "metadata": {
    "ExecuteTime": {
     "end_time": "2023-02-17T16:41:07.202411Z",
     "start_time": "2023-02-17T16:41:07.037722Z"
    }
   },
   "outputs": [
    {
     "data": {
      "image/png": "[encoded data removed]",
      "text/plain": [
       "<Figure size 640x480 with 1 Axes>"
      ]
     },
     "metadata": {},
     "output_type": "display_data"
    }
   ],
   "source": [
    "plt.hist([g.current_round for g in mm_games]);"
   ]
  },
  {
   "cell_type": "markdown",
   "id": "d7556109",
   "metadata": {},
   "source": [
    "It seems like the games are ending faster too"
   ]
  },
  {
   "cell_type": "code",
   "execution_count": 13,
   "id": "451ed471",
   "metadata": {
    "ExecuteTime": {
     "end_time": "2023-02-18T15:12:28.603466Z",
     "start_time": "2023-02-18T15:12:27.954201Z"
    }
   },
   "outputs": [],
   "source": [
    "def ab_rand():\n",
    "    players = [AlphaBeta(0), RandPolicy(1)]\n",
    "    sim = game.GameSimulator(players, n_steps=700)\n",
    "    sim.run()\n",
    "    return sim"
   ]
  },
  {
   "cell_type": "code",
   "execution_count": 14,
   "id": "b522d6b2",
   "metadata": {
    "ExecuteTime": {
     "end_time": "2023-02-18T15:12:37.935015Z",
     "start_time": "2023-02-18T15:12:28.605039Z"
    }
   },
   "outputs": [],
   "source": [
    "ab_games = [ab_rand() for _ in range(20)]"
   ]
  },
  {
   "cell_type": "code",
   "execution_count": 15,
   "id": "64eecd30",
   "metadata": {
    "ExecuteTime": {
     "end_time": "2023-02-18T15:12:42.397625Z",
     "start_time": "2023-02-18T15:12:42.383841Z"
    }
   },
   "outputs": [
    {
     "data": {
      "text/plain": [
       "0.25"
      ]
     },
     "execution_count": 15,
     "metadata": {},
     "output_type": "execute_result"
    }
   ],
   "source": [
    "np.mean([g.winner() for g in ab_games])"
   ]
  },
  {
   "cell_type": "markdown",
   "id": "00149b50",
   "metadata": {},
   "source": [
    "As expected, we do even better with Alpha Beta pruning."
   ]
  },
  {
   "cell_type": "code",
   "execution_count": 16,
   "id": "52d8d92b",
   "metadata": {
    "ExecuteTime": {
     "end_time": "2023-02-18T15:12:50.748774Z",
     "start_time": "2023-02-18T15:12:50.618271Z"
    }
   },
   "outputs": [
    {
     "data": {
      "image/png": "[encoded data removed]",
      "text/plain": [
       "<Figure size 640x480 with 1 Axes>"
      ]
     },
     "metadata": {},
     "output_type": "display_data"
    }
   ],
   "source": [
    "plt.hist([g.current_round for g in ab_games]);"
   ]
  },
  {
   "cell_type": "markdown",
   "id": "f8584bd4",
   "metadata": {},
   "source": [
    "Hm: but the games are taking longer? Could also be sample quirks. 20 games isn't much of a sample. "
   ]
  },
  {
   "cell_type": "code",
   "execution_count": 24,
   "id": "795e6cb1",
   "metadata": {
    "ExecuteTime": {
     "end_time": "2023-02-17T04:33:02.003479Z",
     "start_time": "2023-02-17T04:33:01.542741Z"
    }
   },
   "outputs": [],
   "source": [
    "def minimax_game():\n",
    "    players = [MinimaxPolicy(0), MinimaxPolicy(1)]\n",
    "    sim = game.GameSimulator(players, n_steps=1000)\n",
    "    sim.run()"
   ]
  }
 ],
 "metadata": {
  "@webio": {
   "lastCommId": null,
   "lastKernelId": null
  },
  "kernelspec": {
   "display_name": "Python 3 (ipykernel)",
   "language": "python",
   "name": "python3"
  },
  "language_info": {
   "codemirror_mode": {
    "name": "ipython",
    "version": 3
   },
   "file_extension": ".py",
   "mimetype": "text/x-python",
   "name": "python",
   "nbconvert_exporter": "python",
   "pygments_lexer": "ipython3",
   "version": "3.10.9"
  }
 },
 "nbformat": 4,
 "nbformat_minor": 5
}
